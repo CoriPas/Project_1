{
 "cells": [
  {
   "cell_type": "markdown",
   "id": "c42389df-1564-4c38-9c6f-c1edcf912e3e",
   "metadata": {},
   "source": [
    "# Data Science Tools and Ecosystem"
   ]
  },
  {
   "cell_type": "markdown",
   "id": "d6177bb6-f2a1-4ff5-a3b9-56a4cb5b4dbf",
   "metadata": {},
   "source": [
    "In this notebook, Data Science Tools and Ecosystem are summarized."
   ]
  },
  {
   "cell_type": "code",
   "execution_count": null,
   "id": "23711cc0-2d0d-416f-9df1-afcd87f5610d",
   "metadata": {
    "tags": []
   },
   "outputs": [],
   "source": [
    "**Objectives:**\n",
    "+ List popular languages for Data Science\n",
    "+ List commonly used libraries used by Data Scientists\n",
    "+ List Data science tools"
   ]
  },
  {
   "cell_type": "markdown",
   "id": "d84a4d07-a39b-46f7-8ac0-4afbcb008b18",
   "metadata": {},
   "source": [
    "Some of the popular languages that Data Scientists use are:\n",
    "1. R\n",
    "2. Python\n",
    "3. Julia"
   ]
  },
  {
   "cell_type": "markdown",
   "id": "b8bc1a42-2314-4dfe-a5cd-8e8fc3a23c40",
   "metadata": {},
   "source": [
    "Some of the commonly used libraries used by Data Scientists include:\n",
    "1. Pandas\n",
    "2. Matplotlib\n",
    "3. Scikit-learn\n",
    "    "
   ]
  },
  {
   "cell_type": "code",
   "execution_count": null,
   "id": "bca9b863-d410-4497-9b4d-a860cb3682ed",
   "metadata": {},
   "outputs": [],
   "source": [
    "|Data Science Tools|\n",
    "|---|\n",
    "|VS Code|\n",
    "|Gitlab|\n",
    "|Pycharm|"
   ]
  },
  {
   "cell_type": "markdown",
   "id": "84edf064-2b51-4e15-a529-be7e901553bf",
   "metadata": {},
   "source": [
    "### Below are a few examples of evaluating arithmetic expressions in Python"
   ]
  },
  {
   "cell_type": "code",
   "execution_count": 1,
   "id": "76383486-fb22-4a4d-ad8c-8478f6254810",
   "metadata": {
    "tags": []
   },
   "outputs": [
    {
     "data": {
      "text/plain": [
       "17"
      ]
     },
     "execution_count": 1,
     "metadata": {},
     "output_type": "execute_result"
    }
   ],
   "source": [
    "# This a simple arithmetic expression to mutiply then add integers\n",
    "(3*4)+5"
   ]
  },
  {
   "cell_type": "code",
   "execution_count": 5,
   "id": "b66fdb45-fa1f-49ff-b530-eb296f5c1079",
   "metadata": {
    "tags": []
   },
   "outputs": [
    {
     "data": {
      "text/plain": [
       "3.3333333333333335"
      ]
     },
     "execution_count": 5,
     "metadata": {},
     "output_type": "execute_result"
    }
   ],
   "source": [
    "# This will convert 200 minutes to hours by diving by 60.\n",
    "200/60\n"
   ]
  },
  {
   "cell_type": "code",
   "execution_count": null,
   "id": "7abac991-471f-4c8e-8245-56280371ee27",
   "metadata": {},
   "outputs": [],
   "source": [
    "## Author\n",
    "Corina"
   ]
  },
  {
   "cell_type": "code",
   "execution_count": null,
   "id": "3be82e1b-b4f1-4583-9fc6-a0fb5e37af5c",
   "metadata": {},
   "outputs": [],
   "source": []
  }
 ],
 "metadata": {
  "kernelspec": {
   "display_name": "Python",
   "language": "python",
   "name": "conda-env-python-py"
  },
  "language_info": {
   "codemirror_mode": {
    "name": "ipython",
    "version": 3
   },
   "file_extension": ".py",
   "mimetype": "text/x-python",
   "name": "python",
   "nbconvert_exporter": "python",
   "pygments_lexer": "ipython3",
   "version": "3.7.12"
  }
 },
 "nbformat": 4,
 "nbformat_minor": 5
}
